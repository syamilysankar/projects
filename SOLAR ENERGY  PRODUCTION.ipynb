{
 "cells": [
  {
   "cell_type": "markdown",
   "id": "aac17220-0121-4848-8f40-52c0e85b1576",
   "metadata": {},
   "source": [
    "# SOLAR ENERGY PRODUCTION"
   ]
  },
  {
   "cell_type": "markdown",
   "id": "9a9e5caa-cac6-42d7-95ac-c01d17c808e2",
   "metadata": {},
   "source": [
    "## OBJECTIVE"
   ]
  },
  {
   "cell_type": "markdown",
   "id": "87bbefbb-6582-432a-8402-6ed0b926d015",
   "metadata": {},
   "source": [
    "Develop a machine learning model to accurately predict the annual solar energy production for future installations, considering variables such as developer, region, and equipment. By leveraging this model, We aims to provide customers with informed choices regarding developers, equipment, and locations, there by optimizing project planning and maximizing returns on investment."
   ]
  },
  {
   "cell_type": "markdown",
   "id": "a9d94c17-12f4-4486-87d7-c9aa7ba764b8",
   "metadata": {},
   "source": [
    "## DATA DICTIONARY"
   ]
  },
  {
   "cell_type": "markdown",
   "id": "ee5ad7cb-80c8-4117-aef2-8140de60a3f7",
   "metadata": {},
   "source": [
    "dataset used for model building contained 218115 rows of 17 columns. The data contains the following information:"
   ]
  },
  {
   "cell_type": "markdown",
   "id": "264ed29e-50a4-476a-81e4-c01de039ee62",
   "metadata": {},
   "source": [
    "| Variable| Description|\n",
    "| ---|----|\n",
    "|Data Through Date| The date up to which the data in the dataset is valid or relevant|\n",
    "|Project ID| A unique identifier for each solar power project in the dataset|\n",
    "|Interconnection Date| The date when the solar power project was connected to the grid or power distribution system|\n",
    "|Utility| The utility company or organization responsible for managing the power grid and distributing electricity|\n",
    "|City/Town| The location of the solar power project (city or town)|\n",
    "|County| The administrative division within the state where the solar project is situated|\n",
    "|Zip| The postal code or ZIP code corresponding to the project’s location|\n",
    "|Division| A further geographical subdivision within the state (if applicable)|\n",
    "|Substation| The electrical substation where the solar power project is connected to the grid|\n",
    "|Circuit ID| The unique identifier for the circuit within the substation that the solar project is connected to|\n",
    "|Developer| The entity or organization responsible for developing and implementing the solar power project|\n",
    "|Metering Method| The method used to measure and record the solar energy production (e.g., net metering, gross metering)|\n",
    "|Estimated PV System Size (kWdc)| The estimated size of the photovoltaic (PV) system in kilowatts direct current (kWdc). This represents the total capacity of the solar panels|\n",
    "|PV System Size (kWac)| The actual size of the PV system in kilowatts alternating current (kWac). This accounts for system losses and efficiency|\n",
    "|Estimated Annual PV Energy Production (kWh)| The projected annual energy production from the PV system in kilowatt-hours (kWh). This estimate considers factors like solar irradiance, panel orientation, and efficiency|\n",
    "|Energy Storage System Size (kWac)| If applicable, the size of any energy storage system (such as batteries) connected to the solar project, measured in kilowatts alternating current (kWac)|\n",
    "|Number of Projects| The total count of solar power projects represented in the dataset|"
   ]
  },
  {
   "cell_type": "markdown",
   "id": "a0225c6f-547e-4f6d-9c6f-33b414fb3fa2",
   "metadata": {},
   "source": [
    "## IMPORT LIBRARIES"
   ]
  },
  {
   "cell_type": "code",
   "execution_count": 1,
   "id": "5ac94986-a700-4125-bbb8-d01ece6a6c95",
   "metadata": {},
   "outputs": [],
   "source": [
    "import pandas as pd\n",
    "import numpy as np\n",
    "import matplotlib.pyplot as plt\n",
    "import seaborn as sns\n",
    "\n",
    "import warnings\n",
    "warnings.filterwarnings('ignore')"
   ]
  },
  {
   "cell_type": "markdown",
   "id": "8b696b44-4366-4346-9c18-f0d8a8366598",
   "metadata": {},
   "source": [
    "## Step 2: Load Dataset"
   ]
  },
  {
   "cell_type": "code",
   "execution_count": 2,
   "id": "ec7a6001-0616-43bc-ba2f-20be0e903b8a",
   "metadata": {},
   "outputs": [],
   "source": [
    "# load dataset\n",
    "df=pd.read_csv('C:/Users/LENOVO/project 22/Solar Energy.csv')"
   ]
  },
  {
   "cell_type": "markdown",
   "id": "daab00fb-7e51-4d4b-89fd-5b7cfbd2e5c1",
   "metadata": {},
   "source": [
    "## Step 3: Data Preprocessing"
   ]
  },
  {
   "cell_type": "code",
   "execution_count": 3,
   "id": "c95ad9ee-f183-4adb-bb40-4e10c6057798",
   "metadata": {},
   "outputs": [
    {
     "data": {
      "text/html": [
       "<div>\n",
       "<style scoped>\n",
       "    .dataframe tbody tr th:only-of-type {\n",
       "        vertical-align: middle;\n",
       "    }\n",
       "\n",
       "    .dataframe tbody tr th {\n",
       "        vertical-align: top;\n",
       "    }\n",
       "\n",
       "    .dataframe thead th {\n",
       "        text-align: right;\n",
       "    }\n",
       "</style>\n",
       "<table border=\"1\" class=\"dataframe\">\n",
       "  <thead>\n",
       "    <tr style=\"text-align: right;\">\n",
       "      <th></th>\n",
       "      <th>Data Through Date</th>\n",
       "      <th>Project ID</th>\n",
       "      <th>Interconnection Date</th>\n",
       "      <th>Utility</th>\n",
       "      <th>City/Town</th>\n",
       "      <th>County</th>\n",
       "      <th>Zip</th>\n",
       "      <th>Division</th>\n",
       "      <th>Substation</th>\n",
       "      <th>Circuit ID</th>\n",
       "      <th>Developer</th>\n",
       "      <th>Metering Method</th>\n",
       "      <th>Estimated PV System Size (kWdc)</th>\n",
       "      <th>PV System Size (kWac)</th>\n",
       "      <th>Estimated Annual PV Energy Production (kWh)</th>\n",
       "      <th>Energy Storage System Size (kWac)</th>\n",
       "      <th>Number of Projects</th>\n",
       "    </tr>\n",
       "  </thead>\n",
       "  <tbody>\n",
       "    <tr>\n",
       "      <th>0</th>\n",
       "      <td>12/31/2023</td>\n",
       "      <td>SDG-66301</td>\n",
       "      <td>12/29/2023</td>\n",
       "      <td>Con Ed</td>\n",
       "      <td>Richmond Hill</td>\n",
       "      <td>Queens</td>\n",
       "      <td>11418.0</td>\n",
       "      <td>CENY-BK</td>\n",
       "      <td>Brownsville_2</td>\n",
       "      <td>9B05</td>\n",
       "      <td>Kamtech Solar Solutions</td>\n",
       "      <td>NM</td>\n",
       "      <td>6.05</td>\n",
       "      <td>5.17</td>\n",
       "      <td>7100</td>\n",
       "      <td>NaN</td>\n",
       "      <td>1</td>\n",
       "    </tr>\n",
       "    <tr>\n",
       "      <th>1</th>\n",
       "      <td>12/31/2023</td>\n",
       "      <td>SDG-66299</td>\n",
       "      <td>12/29/2023</td>\n",
       "      <td>Con Ed</td>\n",
       "      <td>Bronx</td>\n",
       "      <td>Bronx</td>\n",
       "      <td>10473.0</td>\n",
       "      <td>CENY-BX</td>\n",
       "      <td>Parkchester_2</td>\n",
       "      <td>5X67</td>\n",
       "      <td>Kamtech Solar Solutions</td>\n",
       "      <td>NM</td>\n",
       "      <td>6.74</td>\n",
       "      <td>5.76</td>\n",
       "      <td>7911</td>\n",
       "      <td>NaN</td>\n",
       "      <td>1</td>\n",
       "    </tr>\n",
       "    <tr>\n",
       "      <th>2</th>\n",
       "      <td>12/31/2023</td>\n",
       "      <td>SDG-66288</td>\n",
       "      <td>12/29/2023</td>\n",
       "      <td>Con Ed</td>\n",
       "      <td>Brooklyn</td>\n",
       "      <td>Kings</td>\n",
       "      <td>11225.0</td>\n",
       "      <td>CENY-BK</td>\n",
       "      <td>Bensonhurst_2</td>\n",
       "      <td>4B08</td>\n",
       "      <td>SUNCO</td>\n",
       "      <td>NM</td>\n",
       "      <td>3.05</td>\n",
       "      <td>2.61</td>\n",
       "      <td>3585</td>\n",
       "      <td>NaN</td>\n",
       "      <td>1</td>\n",
       "    </tr>\n",
       "    <tr>\n",
       "      <th>3</th>\n",
       "      <td>12/31/2023</td>\n",
       "      <td>SDG-66284</td>\n",
       "      <td>12/29/2023</td>\n",
       "      <td>Con Ed</td>\n",
       "      <td>Brooklyn</td>\n",
       "      <td>Kings</td>\n",
       "      <td>11236.0</td>\n",
       "      <td>CENY-BK</td>\n",
       "      <td>Bensonhurst_2</td>\n",
       "      <td>3037</td>\n",
       "      <td>Kamtech Solar Solutions</td>\n",
       "      <td>NM</td>\n",
       "      <td>5.62</td>\n",
       "      <td>4.80</td>\n",
       "      <td>6592</td>\n",
       "      <td>NaN</td>\n",
       "      <td>1</td>\n",
       "    </tr>\n",
       "    <tr>\n",
       "      <th>4</th>\n",
       "      <td>12/31/2023</td>\n",
       "      <td>SDG-66277</td>\n",
       "      <td>12/28/2023</td>\n",
       "      <td>Con Ed</td>\n",
       "      <td>Springfield Gardens</td>\n",
       "      <td>Queens</td>\n",
       "      <td>11413.0</td>\n",
       "      <td>CENY-Q</td>\n",
       "      <td>Jamaica</td>\n",
       "      <td>9112</td>\n",
       "      <td>Kamtech Solar Solutions</td>\n",
       "      <td>NM</td>\n",
       "      <td>6.05</td>\n",
       "      <td>5.17</td>\n",
       "      <td>7100</td>\n",
       "      <td>NaN</td>\n",
       "      <td>1</td>\n",
       "    </tr>\n",
       "  </tbody>\n",
       "</table>\n",
       "</div>"
      ],
      "text/plain": [
       "  Data Through Date Project ID Interconnection Date Utility  \\\n",
       "0        12/31/2023  SDG-66301           12/29/2023  Con Ed   \n",
       "1        12/31/2023  SDG-66299           12/29/2023  Con Ed   \n",
       "2        12/31/2023  SDG-66288           12/29/2023  Con Ed   \n",
       "3        12/31/2023  SDG-66284           12/29/2023  Con Ed   \n",
       "4        12/31/2023  SDG-66277           12/28/2023  Con Ed   \n",
       "\n",
       "             City/Town  County      Zip Division     Substation Circuit ID  \\\n",
       "0        Richmond Hill  Queens  11418.0  CENY-BK  Brownsville_2       9B05   \n",
       "1                Bronx   Bronx  10473.0  CENY-BX  Parkchester_2       5X67   \n",
       "2             Brooklyn   Kings  11225.0  CENY-BK  Bensonhurst_2       4B08   \n",
       "3             Brooklyn   Kings  11236.0  CENY-BK  Bensonhurst_2       3037   \n",
       "4  Springfield Gardens  Queens  11413.0   CENY-Q        Jamaica       9112   \n",
       "\n",
       "                 Developer Metering Method  Estimated PV System Size (kWdc)  \\\n",
       "0  Kamtech Solar Solutions              NM                             6.05   \n",
       "1  Kamtech Solar Solutions              NM                             6.74   \n",
       "2                    SUNCO              NM                             3.05   \n",
       "3  Kamtech Solar Solutions              NM                             5.62   \n",
       "4  Kamtech Solar Solutions              NM                             6.05   \n",
       "\n",
       "   PV System Size (kWac)  Estimated Annual PV Energy Production (kWh)  \\\n",
       "0                   5.17                                         7100   \n",
       "1                   5.76                                         7911   \n",
       "2                   2.61                                         3585   \n",
       "3                   4.80                                         6592   \n",
       "4                   5.17                                         7100   \n",
       "\n",
       "   Energy Storage System Size (kWac)  Number of Projects  \n",
       "0                                NaN                   1  \n",
       "1                                NaN                   1  \n",
       "2                                NaN                   1  \n",
       "3                                NaN                   1  \n",
       "4                                NaN                   1  "
      ]
     },
     "execution_count": 3,
     "metadata": {},
     "output_type": "execute_result"
    }
   ],
   "source": [
    "# Display the first five rows of a DataFrame\n",
    "df.head()"
   ]
  },
  {
   "cell_type": "code",
   "execution_count": 4,
   "id": "5875cf64-2c0c-458a-8fbe-09094331ecf0",
   "metadata": {},
   "outputs": [
    {
     "name": "stdout",
     "output_type": "stream",
     "text": [
      "<class 'pandas.core.frame.DataFrame'>\n",
      "RangeIndex: 218115 entries, 0 to 218114\n",
      "Data columns (total 17 columns):\n",
      " #   Column                                       Non-Null Count   Dtype  \n",
      "---  ------                                       --------------   -----  \n",
      " 0   Data Through Date                            218115 non-null  object \n",
      " 1   Project ID                                   218112 non-null  object \n",
      " 2   Interconnection Date                         218115 non-null  object \n",
      " 3   Utility                                      218115 non-null  object \n",
      " 4   City/Town                                    218057 non-null  object \n",
      " 5   County                                       218115 non-null  object \n",
      " 6   Zip                                          218019 non-null  float64\n",
      " 7   Division                                     132881 non-null  object \n",
      " 8   Substation                                   138171 non-null  object \n",
      " 9   Circuit ID                                   218085 non-null  object \n",
      " 10  Developer                                    207565 non-null  object \n",
      " 11  Metering Method                              217652 non-null  object \n",
      " 12  Estimated PV System Size (kWdc)              218115 non-null  float64\n",
      " 13  PV System Size (kWac)                        218115 non-null  float64\n",
      " 14  Estimated Annual PV Energy Production (kWh)  218115 non-null  int64  \n",
      " 15  Energy Storage System Size (kWac)            4091 non-null    float64\n",
      " 16  Number of Projects                           218115 non-null  int64  \n",
      "dtypes: float64(4), int64(2), object(11)\n",
      "memory usage: 28.3+ MB\n"
     ]
    }
   ],
   "source": [
    "# checking the details of Dataframe Columns and Types\n",
    "df.info()"
   ]
  },
  {
   "cell_type": "code",
   "execution_count": 5,
   "id": "417abbfb-4529-4630-8763-bc60fe0f8684",
   "metadata": {},
   "outputs": [
    {
     "data": {
      "text/plain": [
       "(218115, 17)"
      ]
     },
     "execution_count": 5,
     "metadata": {},
     "output_type": "execute_result"
    }
   ],
   "source": [
    "# checking the shape of the Data\n",
    "df.shape"
   ]
  },
  {
   "cell_type": "code",
   "execution_count": 6,
   "id": "044a2b02-7989-46ce-a54b-d83f24124156",
   "metadata": {},
   "outputs": [
    {
     "data": {
      "text/plain": [
       "Data Through Date                                   1\n",
       "Project ID                                     218077\n",
       "Interconnection Date                             5411\n",
       "Utility                                             7\n",
       "City/Town                                        3009\n",
       "County                                             62\n",
       "Zip                                              1729\n",
       "Division                                          109\n",
       "Substation                                       2255\n",
       "Circuit ID                                       6429\n",
       "Developer                                        2567\n",
       "Metering Method                                     6\n",
       "Estimated PV System Size (kWdc)                  3191\n",
       "PV System Size (kWac)                            3095\n",
       "Estimated Annual PV Energy Production (kWh)      3769\n",
       "Energy Storage System Size (kWac)                 210\n",
       "Number of Projects                                  1\n",
       "dtype: int64"
      ]
     },
     "execution_count": 6,
     "metadata": {},
     "output_type": "execute_result"
    }
   ],
   "source": [
    "# The number of unique values in specification\n",
    "df.nunique()"
   ]
  },
  {
   "cell_type": "code",
   "execution_count": 7,
   "id": "edfc4f73-b7d7-4b1a-9d64-a21ca388fe60",
   "metadata": {},
   "outputs": [
    {
     "data": {
      "text/html": [
       "<div>\n",
       "<style scoped>\n",
       "    .dataframe tbody tr th:only-of-type {\n",
       "        vertical-align: middle;\n",
       "    }\n",
       "\n",
       "    .dataframe tbody tr th {\n",
       "        vertical-align: top;\n",
       "    }\n",
       "\n",
       "    .dataframe thead th {\n",
       "        text-align: right;\n",
       "    }\n",
       "</style>\n",
       "<table border=\"1\" class=\"dataframe\">\n",
       "  <thead>\n",
       "    <tr style=\"text-align: right;\">\n",
       "      <th></th>\n",
       "      <th>Zip</th>\n",
       "      <th>Estimated PV System Size (kWdc)</th>\n",
       "      <th>PV System Size (kWac)</th>\n",
       "      <th>Estimated Annual PV Energy Production (kWh)</th>\n",
       "      <th>Energy Storage System Size (kWac)</th>\n",
       "      <th>Number of Projects</th>\n",
       "    </tr>\n",
       "  </thead>\n",
       "  <tbody>\n",
       "    <tr>\n",
       "      <th>count</th>\n",
       "      <td>218019.000000</td>\n",
       "      <td>218115.000000</td>\n",
       "      <td>218115.000000</td>\n",
       "      <td>2.181150e+05</td>\n",
       "      <td>4091.000000</td>\n",
       "      <td>218115.0</td>\n",
       "    </tr>\n",
       "    <tr>\n",
       "      <th>mean</th>\n",
       "      <td>11751.734473</td>\n",
       "      <td>24.507977</td>\n",
       "      <td>19.065451</td>\n",
       "      <td>2.876828e+04</td>\n",
       "      <td>32.174727</td>\n",
       "      <td>1.0</td>\n",
       "    </tr>\n",
       "    <tr>\n",
       "      <th>std</th>\n",
       "      <td>962.129108</td>\n",
       "      <td>291.525394</td>\n",
       "      <td>211.419642</td>\n",
       "      <td>3.422042e+05</td>\n",
       "      <td>296.161116</td>\n",
       "      <td>0.0</td>\n",
       "    </tr>\n",
       "    <tr>\n",
       "      <th>min</th>\n",
       "      <td>10001.000000</td>\n",
       "      <td>0.010000</td>\n",
       "      <td>0.010000</td>\n",
       "      <td>1.400000e+01</td>\n",
       "      <td>0.350000</td>\n",
       "      <td>1.0</td>\n",
       "    </tr>\n",
       "    <tr>\n",
       "      <th>25%</th>\n",
       "      <td>11220.000000</td>\n",
       "      <td>5.270000</td>\n",
       "      <td>4.500000</td>\n",
       "      <td>6.180000e+03</td>\n",
       "      <td>5.000000</td>\n",
       "      <td>1.0</td>\n",
       "    </tr>\n",
       "    <tr>\n",
       "      <th>50%</th>\n",
       "      <td>11717.000000</td>\n",
       "      <td>7.130000</td>\n",
       "      <td>6.090000</td>\n",
       "      <td>8.364000e+03</td>\n",
       "      <td>7.600000</td>\n",
       "      <td>1.0</td>\n",
       "    </tr>\n",
       "    <tr>\n",
       "      <th>75%</th>\n",
       "      <td>12018.000000</td>\n",
       "      <td>10.240000</td>\n",
       "      <td>8.750000</td>\n",
       "      <td>1.201700e+04</td>\n",
       "      <td>10.000000</td>\n",
       "      <td>1.0</td>\n",
       "    </tr>\n",
       "    <tr>\n",
       "      <th>max</th>\n",
       "      <td>14905.000000</td>\n",
       "      <td>43470.000000</td>\n",
       "      <td>31500.000000</td>\n",
       "      <td>5.102682e+07</td>\n",
       "      <td>5000.000000</td>\n",
       "      <td>1.0</td>\n",
       "    </tr>\n",
       "  </tbody>\n",
       "</table>\n",
       "</div>"
      ],
      "text/plain": [
       "                 Zip  Estimated PV System Size (kWdc)  PV System Size (kWac)  \\\n",
       "count  218019.000000                    218115.000000          218115.000000   \n",
       "mean    11751.734473                        24.507977              19.065451   \n",
       "std       962.129108                       291.525394             211.419642   \n",
       "min     10001.000000                         0.010000               0.010000   \n",
       "25%     11220.000000                         5.270000               4.500000   \n",
       "50%     11717.000000                         7.130000               6.090000   \n",
       "75%     12018.000000                        10.240000               8.750000   \n",
       "max     14905.000000                     43470.000000           31500.000000   \n",
       "\n",
       "       Estimated Annual PV Energy Production (kWh)  \\\n",
       "count                                 2.181150e+05   \n",
       "mean                                  2.876828e+04   \n",
       "std                                   3.422042e+05   \n",
       "min                                   1.400000e+01   \n",
       "25%                                   6.180000e+03   \n",
       "50%                                   8.364000e+03   \n",
       "75%                                   1.201700e+04   \n",
       "max                                   5.102682e+07   \n",
       "\n",
       "       Energy Storage System Size (kWac)  Number of Projects  \n",
       "count                        4091.000000            218115.0  \n",
       "mean                           32.174727                 1.0  \n",
       "std                           296.161116                 0.0  \n",
       "min                             0.350000                 1.0  \n",
       "25%                             5.000000                 1.0  \n",
       "50%                             7.600000                 1.0  \n",
       "75%                            10.000000                 1.0  \n",
       "max                          5000.000000                 1.0  "
      ]
     },
     "execution_count": 7,
     "metadata": {},
     "output_type": "execute_result"
    }
   ],
   "source": [
    "# Checking the decriptive statistics of Dataset\n",
    "df.describe()"
   ]
  },
  {
   "cell_type": "code",
   "execution_count": 8,
   "id": "b6b3312a-7119-4f4b-b08a-eb3df4ddd619",
   "metadata": {},
   "outputs": [
    {
     "data": {
      "text/plain": [
       "Data Through Date                                   0\n",
       "Project ID                                          3\n",
       "Interconnection Date                                0\n",
       "Utility                                             0\n",
       "City/Town                                          58\n",
       "County                                              0\n",
       "Zip                                                96\n",
       "Division                                        85234\n",
       "Substation                                      79944\n",
       "Circuit ID                                         30\n",
       "Developer                                       10550\n",
       "Metering Method                                   463\n",
       "Estimated PV System Size (kWdc)                     0\n",
       "PV System Size (kWac)                               0\n",
       "Estimated Annual PV Energy Production (kWh)         0\n",
       "Energy Storage System Size (kWac)              214024\n",
       "Number of Projects                                  0\n",
       "dtype: int64"
      ]
     },
     "execution_count": 8,
     "metadata": {},
     "output_type": "execute_result"
    }
   ],
   "source": [
    "# Checking the Missing values in the dataset\n",
    "df.isnull().sum()"
   ]
  },
  {
   "cell_type": "markdown",
   "id": "14687886-c415-4061-86d5-2d493f51abf2",
   "metadata": {},
   "source": [
    "From this we can see that there are some missing values in Project ID,City/Town,Zip,Division,substation,circuit ID,Developer,Metering Method,Energy Storage System Size."
   ]
  },
  {
   "cell_type": "code",
   "execution_count": 9,
   "id": "6f057a18-b72e-4892-b3e9-7f0598cc7ed2",
   "metadata": {},
   "outputs": [
    {
     "name": "stdout",
     "output_type": "stream",
     "text": [
      "Data Through Date                               0.000000\n",
      "Project ID                                      0.001375\n",
      "Interconnection Date                            0.000000\n",
      "Utility                                         0.000000\n",
      "City/Town                                       0.026591\n",
      "County                                          0.000000\n",
      "Zip                                             0.044013\n",
      "Division                                       39.077551\n",
      "Substation                                     36.652225\n",
      "Circuit ID                                      0.013754\n",
      "Developer                                       4.836898\n",
      "Metering Method                                 0.212273\n",
      "Estimated PV System Size (kWdc)                 0.000000\n",
      "PV System Size (kWac)                           0.000000\n",
      "Estimated Annual PV Energy Production (kWh)     0.000000\n",
      "Energy Storage System Size (kWac)              98.124384\n",
      "Number of Projects                              0.000000\n",
      "dtype: float64\n"
     ]
    }
   ],
   "source": [
    "# DataFrame Null Values as Percentages\n",
    "null_percentage = df.isnull().mean() * 100\n",
    "print(null_percentage)"
   ]
  },
  {
   "cell_type": "markdown",
   "id": "2a9538f9-db12-4e55-b440-98f30111ca7c",
   "metadata": {},
   "source": [
    "From this we can see that  the column Energy Storage System Size has 98% missing values so we can drop this column.Project ID and Circuit ID has very small quantity of missing values so we can drop the missing rows. All the other columns with missing values we can replce the missing values with appropriate values."
   ]
  },
  {
   "cell_type": "markdown",
   "id": "7622032b-5dd0-450d-96bc-e43003ff9c50",
   "metadata": {},
   "source": [
    "### Data cleaning and Handling Missing values"
   ]
  },
  {
   "cell_type": "code",
   "execution_count": 10,
   "id": "2d9a037f-8f34-422b-a9f6-d7ef186c930a",
   "metadata": {},
   "outputs": [],
   "source": [
    "# drop the column Energy Storage System Size (KWac)\n",
    "\n",
    "df = df.drop(columns=['Energy Storage System Size (kWac)'])\n"
   ]
  },
  {
   "cell_type": "code",
   "execution_count": 11,
   "id": "d90788d6-cc33-44cb-9de7-7e3728d43f55",
   "metadata": {},
   "outputs": [],
   "source": [
    "# we can drop the column Project ID and Circuit ID since they are not importat for prediction\n",
    "df.drop(columns=[\"Project ID\", \"Circuit ID\"], inplace=True)"
   ]
  },
  {
   "cell_type": "code",
   "execution_count": 12,
   "id": "85ed31c1-a527-4953-9117-564410be2d42",
   "metadata": {},
   "outputs": [],
   "source": [
    "# since zip is a catogorical column convert it into string\n",
    "df[\"Zip\"] = df[\"Zip\"].astype(str)"
   ]
  },
  {
   "cell_type": "code",
   "execution_count": 13,
   "id": "f1003f98-7a1b-4c67-b204-b220fdd8bc4c",
   "metadata": {},
   "outputs": [],
   "source": [
    "# fill the missing values\n",
    "df.fillna(\"unknown\", inplace=True)\n"
   ]
  },
  {
   "cell_type": "code",
   "execution_count": 14,
   "id": "ef6dea2a-8ca6-42e6-a141-cdbcf6d59707",
   "metadata": {},
   "outputs": [
    {
     "name": "stdout",
     "output_type": "stream",
     "text": [
      "Number of Duplicated Rows: 2385\n"
     ]
    }
   ],
   "source": [
    "# Number of Duplicated Rows in the Datase\n",
    "num_duplicated = df.duplicated().sum()\n",
    "print(f\"Number of Duplicated Rows: {num_duplicated}\")\n",
    "df = df.drop_duplicates()"
   ]
  },
  {
   "cell_type": "code",
   "execution_count": 15,
   "id": "79d30f8b-079d-4317-89f1-ab870acbc8f4",
   "metadata": {},
   "outputs": [
    {
     "data": {
      "text/plain": [
       "0"
      ]
     },
     "execution_count": 15,
     "metadata": {},
     "output_type": "execute_result"
    }
   ],
   "source": [
    "df.duplicated().sum()"
   ]
  },
  {
   "cell_type": "code",
   "execution_count": 16,
   "id": "d7c02f20-13bf-4293-ab54-f766f88b37bf",
   "metadata": {},
   "outputs": [
    {
     "name": "stdout",
     "output_type": "stream",
     "text": [
      "Shape of Cleaned DataFrame: 215730 rows and 14 columns\n"
     ]
    }
   ],
   "source": [
    "num_rows, num_columns = df.shape\n",
    "print(f\"Shape of Cleaned DataFrame: {num_rows} rows and {num_columns} columns\")"
   ]
  },
  {
   "cell_type": "code",
   "execution_count": 17,
   "id": "35d0998a-0465-419a-865c-afcec172a464",
   "metadata": {},
   "outputs": [
    {
     "data": {
      "text/html": [
       "<div>\n",
       "<style scoped>\n",
       "    .dataframe tbody tr th:only-of-type {\n",
       "        vertical-align: middle;\n",
       "    }\n",
       "\n",
       "    .dataframe tbody tr th {\n",
       "        vertical-align: top;\n",
       "    }\n",
       "\n",
       "    .dataframe thead th {\n",
       "        text-align: right;\n",
       "    }\n",
       "</style>\n",
       "<table border=\"1\" class=\"dataframe\">\n",
       "  <thead>\n",
       "    <tr style=\"text-align: right;\">\n",
       "      <th></th>\n",
       "      <th>Data Through Date</th>\n",
       "      <th>Interconnection Date</th>\n",
       "      <th>Utility</th>\n",
       "      <th>City/Town</th>\n",
       "      <th>County</th>\n",
       "      <th>Zip</th>\n",
       "      <th>Division</th>\n",
       "      <th>Substation</th>\n",
       "      <th>Developer</th>\n",
       "      <th>Metering Method</th>\n",
       "      <th>Estimated PV System Size (kWdc)</th>\n",
       "      <th>PV System Size (kWac)</th>\n",
       "      <th>Estimated Annual PV Energy Production (kWh)</th>\n",
       "      <th>Number of Projects</th>\n",
       "    </tr>\n",
       "  </thead>\n",
       "  <tbody>\n",
       "    <tr>\n",
       "      <th>0</th>\n",
       "      <td>12/31/2023</td>\n",
       "      <td>12/29/2023</td>\n",
       "      <td>Con Ed</td>\n",
       "      <td>Richmond Hill</td>\n",
       "      <td>Queens</td>\n",
       "      <td>11418.0</td>\n",
       "      <td>CENY-BK</td>\n",
       "      <td>Brownsville_2</td>\n",
       "      <td>Kamtech Solar Solutions</td>\n",
       "      <td>NM</td>\n",
       "      <td>6.05</td>\n",
       "      <td>5.17</td>\n",
       "      <td>7100</td>\n",
       "      <td>1</td>\n",
       "    </tr>\n",
       "    <tr>\n",
       "      <th>1</th>\n",
       "      <td>12/31/2023</td>\n",
       "      <td>12/29/2023</td>\n",
       "      <td>Con Ed</td>\n",
       "      <td>Bronx</td>\n",
       "      <td>Bronx</td>\n",
       "      <td>10473.0</td>\n",
       "      <td>CENY-BX</td>\n",
       "      <td>Parkchester_2</td>\n",
       "      <td>Kamtech Solar Solutions</td>\n",
       "      <td>NM</td>\n",
       "      <td>6.74</td>\n",
       "      <td>5.76</td>\n",
       "      <td>7911</td>\n",
       "      <td>1</td>\n",
       "    </tr>\n",
       "    <tr>\n",
       "      <th>2</th>\n",
       "      <td>12/31/2023</td>\n",
       "      <td>12/29/2023</td>\n",
       "      <td>Con Ed</td>\n",
       "      <td>Brooklyn</td>\n",
       "      <td>Kings</td>\n",
       "      <td>11225.0</td>\n",
       "      <td>CENY-BK</td>\n",
       "      <td>Bensonhurst_2</td>\n",
       "      <td>SUNCO</td>\n",
       "      <td>NM</td>\n",
       "      <td>3.05</td>\n",
       "      <td>2.61</td>\n",
       "      <td>3585</td>\n",
       "      <td>1</td>\n",
       "    </tr>\n",
       "  </tbody>\n",
       "</table>\n",
       "</div>"
      ],
      "text/plain": [
       "  Data Through Date Interconnection Date Utility      City/Town  County  \\\n",
       "0        12/31/2023           12/29/2023  Con Ed  Richmond Hill  Queens   \n",
       "1        12/31/2023           12/29/2023  Con Ed          Bronx   Bronx   \n",
       "2        12/31/2023           12/29/2023  Con Ed       Brooklyn   Kings   \n",
       "\n",
       "       Zip Division     Substation                Developer Metering Method  \\\n",
       "0  11418.0  CENY-BK  Brownsville_2  Kamtech Solar Solutions              NM   \n",
       "1  10473.0  CENY-BX  Parkchester_2  Kamtech Solar Solutions              NM   \n",
       "2  11225.0  CENY-BK  Bensonhurst_2                    SUNCO              NM   \n",
       "\n",
       "   Estimated PV System Size (kWdc)  PV System Size (kWac)  \\\n",
       "0                             6.05                   5.17   \n",
       "1                             6.74                   5.76   \n",
       "2                             3.05                   2.61   \n",
       "\n",
       "   Estimated Annual PV Energy Production (kWh)  Number of Projects  \n",
       "0                                         7100                   1  \n",
       "1                                         7911                   1  \n",
       "2                                         3585                   1  "
      ]
     },
     "execution_count": 17,
     "metadata": {},
     "output_type": "execute_result"
    }
   ],
   "source": [
    "df.head(3)"
   ]
  },
  {
   "cell_type": "code",
   "execution_count": 18,
   "id": "4d9402bf-c7e8-4c6e-9c18-e950bebbcb55",
   "metadata": {},
   "outputs": [
    {
     "data": {
      "text/plain": [
       "Data Through Date                              0\n",
       "Interconnection Date                           0\n",
       "Utility                                        0\n",
       "City/Town                                      0\n",
       "County                                         0\n",
       "Zip                                            0\n",
       "Division                                       0\n",
       "Substation                                     0\n",
       "Developer                                      0\n",
       "Metering Method                                0\n",
       "Estimated PV System Size (kWdc)                0\n",
       "PV System Size (kWac)                          0\n",
       "Estimated Annual PV Energy Production (kWh)    0\n",
       "Number of Projects                             0\n",
       "dtype: int64"
      ]
     },
     "execution_count": 18,
     "metadata": {},
     "output_type": "execute_result"
    }
   ],
   "source": [
    "# Checking the Missing values in the dataset\n",
    "df.isnull().sum()"
   ]
  },
  {
   "cell_type": "code",
   "execution_count": 19,
   "id": "e183628e-40f1-46d6-a3e6-fe7f13413a1c",
   "metadata": {},
   "outputs": [
    {
     "data": {
      "text/plain": [
       "3010"
      ]
     },
     "execution_count": 19,
     "metadata": {},
     "output_type": "execute_result"
    }
   ],
   "source": [
    "# Count of Each Unique Value in index column\n",
    "df[\"City/Town\"].nunique()"
   ]
  },
  {
   "cell_type": "code",
   "execution_count": 20,
   "id": "29a97ced-c763-43f6-b958-3b86eef4be24",
   "metadata": {},
   "outputs": [
    {
     "data": {
      "text/plain": [
       "110"
      ]
     },
     "execution_count": 20,
     "metadata": {},
     "output_type": "execute_result"
    }
   ],
   "source": [
    "# Count of Each Unique Value in Division column\n",
    "df[\"Division\"].nunique()"
   ]
  },
  {
   "cell_type": "code",
   "execution_count": 21,
   "id": "9e8c1577-72ba-49a1-b72b-3423dfd26724",
   "metadata": {},
   "outputs": [
    {
     "data": {
      "text/plain": [
       "2256"
      ]
     },
     "execution_count": 21,
     "metadata": {},
     "output_type": "execute_result"
    }
   ],
   "source": [
    "# Count of Each Unique Value in Substation column\n",
    "df[\"Substation\"].nunique()"
   ]
  },
  {
   "cell_type": "code",
   "execution_count": 22,
   "id": "7aca4442-89be-4634-9f55-83dec3c4faf8",
   "metadata": {},
   "outputs": [
    {
     "data": {
      "text/plain": [
       "2568"
      ]
     },
     "execution_count": 22,
     "metadata": {},
     "output_type": "execute_result"
    }
   ],
   "source": [
    "# Count of Each Unique Value in Developer column\n",
    "df[\"Developer\"].nunique()"
   ]
  },
  {
   "cell_type": "code",
   "execution_count": 23,
   "id": "a95a26ed-52af-4642-bcf1-8ecb8d86e3da",
   "metadata": {},
   "outputs": [
    {
     "data": {
      "text/plain": [
       "62"
      ]
     },
     "execution_count": 23,
     "metadata": {},
     "output_type": "execute_result"
    }
   ],
   "source": [
    "# Count of Each Unique Value in County column\n",
    "df[\"County\"].nunique()"
   ]
  },
  {
   "cell_type": "markdown",
   "id": "6a0b9916-0be2-428b-aba9-960c87ee5145",
   "metadata": {},
   "source": [
    "From the above results we get the unique values we are analysing the projects of 3009 City/Town and there 110 divisions and has 2255 Substations. There are 2567 developers and 62 countys"
   ]
  },
  {
   "cell_type": "code",
   "execution_count": 24,
   "id": "71f317ef-c1aa-4d24-9135-e3056adf4bb4",
   "metadata": {},
   "outputs": [
    {
     "data": {
      "text/plain": [
       "7"
      ]
     },
     "execution_count": 24,
     "metadata": {},
     "output_type": "execute_result"
    }
   ],
   "source": [
    "df['Metering Method'].nunique()"
   ]
  },
  {
   "cell_type": "code",
   "execution_count": 25,
   "id": "771b9572-ae56-4cae-a569-ca310938a8f2",
   "metadata": {},
   "outputs": [
    {
     "name": "stdout",
     "output_type": "stream",
     "text": [
      "Data Through Date                               object\n",
      "Interconnection Date                            object\n",
      "Utility                                         object\n",
      "City/Town                                       object\n",
      "County                                          object\n",
      "Zip                                             object\n",
      "Division                                        object\n",
      "Substation                                      object\n",
      "Developer                                       object\n",
      "Metering Method                                 object\n",
      "Estimated PV System Size (kWdc)                float64\n",
      "PV System Size (kWac)                          float64\n",
      "Estimated Annual PV Energy Production (kWh)      int64\n",
      "Number of Projects                               int64\n",
      "dtype: object\n"
     ]
    }
   ],
   "source": [
    "# Check the data types after conversion\n",
    "print(df.dtypes)"
   ]
  },
  {
   "cell_type": "markdown",
   "id": "51af1175-9550-4814-9f7c-2f2cae0ff408",
   "metadata": {},
   "source": [
    "### Feature Engineering"
   ]
  },
  {
   "cell_type": "code",
   "execution_count": 26,
   "id": "1c997f8d-3204-463b-852a-301464bc55f8",
   "metadata": {},
   "outputs": [],
   "source": [
    "# Convert columns to datetime format\n",
    "df['Data Through Date'] = pd.to_datetime(df['Data Through Date'], errors='coerce')\n",
    "df['Interconnection Date'] = pd.to_datetime(df['Interconnection Date'], errors='coerce')"
   ]
  },
  {
   "cell_type": "code",
   "execution_count": 27,
   "id": "1f8215d2-67ed-40f6-af81-f7bffe4f023a",
   "metadata": {},
   "outputs": [],
   "source": [
    "# Extract Year,Month,Day from Date\n",
    "df['Year'] = df['Interconnection Date'].dt.year\n",
    "df['Month'] = df['Interconnection Date'].dt.month\n",
    "df['Day'] = df['Interconnection Date'].dt.day\n",
    "\n",
    "# Calculate days since interconnection (assuming today as reference)\n",
    "df['Days Since Interconnection'] = (pd.to_datetime(\"today\") - df['Interconnection Date']).dt.days\n",
    "\n",
    "# Drop original date columns\n",
    "df= df.drop(columns=[\"Data Through Date\", \"Interconnection Date\"])\n",
    "\n"
   ]
  },
  {
   "cell_type": "code",
   "execution_count": 28,
   "id": "fa3351ee-22e6-43c9-b8e7-0287640b16bf",
   "metadata": {},
   "outputs": [],
   "source": [
    "from sklearn.preprocessing import LabelEncoder\n",
    "# Encode categorical variables using label encoding\n",
    "label_encoders = {}\n",
    "categorical_cols = ['Utility', 'City/Town', 'County','Zip', 'Division', 'Substation', 'Developer', 'Metering Method']\n",
    "for col in categorical_cols:\n",
    "    le = LabelEncoder()\n",
    "    df[col] = le.fit_transform(df[col].astype(str))\n",
    "    label_encoders[col] = le  # Store encoders for future use\n"
   ]
  },
  {
   "cell_type": "code",
   "execution_count": 29,
   "id": "efb46748-7952-4b86-b77e-8337312ed7c5",
   "metadata": {},
   "outputs": [],
   "source": [
    "from sklearn.preprocessing import MinMaxScaler\n",
    "\n",
    "# List of numerical columns to scale\n",
    "num_columns = ['Estimated PV System Size (kWdc)', 'PV System Size (kWac)', \n",
    "               'Estimated Annual PV Energy Production (kWh)']\n",
    "\n",
    "# Apply MinMaxScaler\n",
    "scaler = MinMaxScaler()\n",
    "df[num_columns] = scaler.fit_transform(df[num_columns])\n"
   ]
  },
  {
   "cell_type": "markdown",
   "id": "a68e57e1-08e0-4aa7-afe1-67ce8358d321",
   "metadata": {},
   "source": [
    "## Exploratory Data Analysis (EDA)"
   ]
  },
  {
   "cell_type": "code",
   "execution_count": 30,
   "id": "a44d7e1a-7681-4b3c-8f17-f3eca5d61615",
   "metadata": {},
   "outputs": [
    {
     "data": {
      "text/html": [
       "<div>\n",
       "<style scoped>\n",
       "    .dataframe tbody tr th:only-of-type {\n",
       "        vertical-align: middle;\n",
       "    }\n",
       "\n",
       "    .dataframe tbody tr th {\n",
       "        vertical-align: top;\n",
       "    }\n",
       "\n",
       "    .dataframe thead th {\n",
       "        text-align: right;\n",
       "    }\n",
       "</style>\n",
       "<table border=\"1\" class=\"dataframe\">\n",
       "  <thead>\n",
       "    <tr style=\"text-align: right;\">\n",
       "      <th></th>\n",
       "      <th>Estimated PV System Size (kWdc)</th>\n",
       "      <th>PV System Size (kWac)</th>\n",
       "      <th>Estimated Annual PV Energy Production (kWh)</th>\n",
       "    </tr>\n",
       "  </thead>\n",
       "  <tbody>\n",
       "    <tr>\n",
       "      <th>0</th>\n",
       "      <td>0.000139</td>\n",
       "      <td>0.000164</td>\n",
       "      <td>0.000139</td>\n",
       "    </tr>\n",
       "    <tr>\n",
       "      <th>1</th>\n",
       "      <td>0.000155</td>\n",
       "      <td>0.000183</td>\n",
       "      <td>0.000155</td>\n",
       "    </tr>\n",
       "    <tr>\n",
       "      <th>2</th>\n",
       "      <td>0.000070</td>\n",
       "      <td>0.000083</td>\n",
       "      <td>0.000070</td>\n",
       "    </tr>\n",
       "    <tr>\n",
       "      <th>3</th>\n",
       "      <td>0.000129</td>\n",
       "      <td>0.000152</td>\n",
       "      <td>0.000129</td>\n",
       "    </tr>\n",
       "    <tr>\n",
       "      <th>4</th>\n",
       "      <td>0.000139</td>\n",
       "      <td>0.000164</td>\n",
       "      <td>0.000139</td>\n",
       "    </tr>\n",
       "    <tr>\n",
       "      <th>...</th>\n",
       "      <td>...</td>\n",
       "      <td>...</td>\n",
       "      <td>...</td>\n",
       "    </tr>\n",
       "    <tr>\n",
       "      <th>218110</th>\n",
       "      <td>0.000064</td>\n",
       "      <td>0.000076</td>\n",
       "      <td>0.000064</td>\n",
       "    </tr>\n",
       "    <tr>\n",
       "      <th>218111</th>\n",
       "      <td>0.000067</td>\n",
       "      <td>0.000079</td>\n",
       "      <td>0.000067</td>\n",
       "    </tr>\n",
       "    <tr>\n",
       "      <th>218112</th>\n",
       "      <td>0.790476</td>\n",
       "      <td>0.790476</td>\n",
       "      <td>0.790476</td>\n",
       "    </tr>\n",
       "    <tr>\n",
       "      <th>218113</th>\n",
       "      <td>0.634921</td>\n",
       "      <td>0.634921</td>\n",
       "      <td>0.634921</td>\n",
       "    </tr>\n",
       "    <tr>\n",
       "      <th>218114</th>\n",
       "      <td>1.000000</td>\n",
       "      <td>1.000000</td>\n",
       "      <td>1.000000</td>\n",
       "    </tr>\n",
       "  </tbody>\n",
       "</table>\n",
       "<p>215730 rows × 3 columns</p>\n",
       "</div>"
      ],
      "text/plain": [
       "        Estimated PV System Size (kWdc)  PV System Size (kWac)  \\\n",
       "0                              0.000139               0.000164   \n",
       "1                              0.000155               0.000183   \n",
       "2                              0.000070               0.000083   \n",
       "3                              0.000129               0.000152   \n",
       "4                              0.000139               0.000164   \n",
       "...                                 ...                    ...   \n",
       "218110                         0.000064               0.000076   \n",
       "218111                         0.000067               0.000079   \n",
       "218112                         0.790476               0.790476   \n",
       "218113                         0.634921               0.634921   \n",
       "218114                         1.000000               1.000000   \n",
       "\n",
       "        Estimated Annual PV Energy Production (kWh)  \n",
       "0                                          0.000139  \n",
       "1                                          0.000155  \n",
       "2                                          0.000070  \n",
       "3                                          0.000129  \n",
       "4                                          0.000139  \n",
       "...                                             ...  \n",
       "218110                                     0.000064  \n",
       "218111                                     0.000067  \n",
       "218112                                     0.790476  \n",
       "218113                                     0.634921  \n",
       "218114                                     1.000000  \n",
       "\n",
       "[215730 rows x 3 columns]"
      ]
     },
     "execution_count": 30,
     "metadata": {},
     "output_type": "execute_result"
    }
   ],
   "source": [
    "df[num_columns]"
   ]
  },
  {
   "cell_type": "code",
   "execution_count": 31,
   "id": "c25ba739-ec65-4c6b-9234-7cca09508b14",
   "metadata": {},
   "outputs": [
    {
     "data": {
      "text/html": [
       "<div>\n",
       "<style scoped>\n",
       "    .dataframe tbody tr th:only-of-type {\n",
       "        vertical-align: middle;\n",
       "    }\n",
       "\n",
       "    .dataframe tbody tr th {\n",
       "        vertical-align: top;\n",
       "    }\n",
       "\n",
       "    .dataframe thead th {\n",
       "        text-align: right;\n",
       "    }\n",
       "</style>\n",
       "<table border=\"1\" class=\"dataframe\">\n",
       "  <thead>\n",
       "    <tr style=\"text-align: right;\">\n",
       "      <th></th>\n",
       "      <th>Utility</th>\n",
       "      <th>City/Town</th>\n",
       "      <th>County</th>\n",
       "      <th>Zip</th>\n",
       "      <th>Division</th>\n",
       "      <th>Substation</th>\n",
       "      <th>Developer</th>\n",
       "      <th>Metering Method</th>\n",
       "      <th>Estimated PV System Size (kWdc)</th>\n",
       "      <th>PV System Size (kWac)</th>\n",
       "      <th>Estimated Annual PV Energy Production (kWh)</th>\n",
       "      <th>Number of Projects</th>\n",
       "      <th>Year</th>\n",
       "      <th>Month</th>\n",
       "      <th>Day</th>\n",
       "      <th>Days Since Interconnection</th>\n",
       "    </tr>\n",
       "  </thead>\n",
       "  <tbody>\n",
       "    <tr>\n",
       "      <th>count</th>\n",
       "      <td>215730.000000</td>\n",
       "      <td>215730.000000</td>\n",
       "      <td>215730.000000</td>\n",
       "      <td>215730.000000</td>\n",
       "      <td>215730.000000</td>\n",
       "      <td>215730.000000</td>\n",
       "      <td>215730.000000</td>\n",
       "      <td>215730.000000</td>\n",
       "      <td>215730.000000</td>\n",
       "      <td>215730.000000</td>\n",
       "      <td>215730.000000</td>\n",
       "      <td>215730.0</td>\n",
       "      <td>215730.000000</td>\n",
       "      <td>215730.000000</td>\n",
       "      <td>215730.000000</td>\n",
       "      <td>215730.000000</td>\n",
       "    </tr>\n",
       "    <tr>\n",
       "      <th>mean</th>\n",
       "      <td>3.026236</td>\n",
       "      <td>1479.392532</td>\n",
       "      <td>37.591360</td>\n",
       "      <td>464.001168</td>\n",
       "      <td>90.856010</td>\n",
       "      <td>1620.346920</td>\n",
       "      <td>1618.727224</td>\n",
       "      <td>2.013725</td>\n",
       "      <td>0.000543</td>\n",
       "      <td>0.000585</td>\n",
       "      <td>0.000543</td>\n",
       "      <td>1.0</td>\n",
       "      <td>2018.088435</td>\n",
       "      <td>6.797603</td>\n",
       "      <td>15.821800</td>\n",
       "      <td>2378.288458</td>\n",
       "    </tr>\n",
       "    <tr>\n",
       "      <th>std</th>\n",
       "      <td>1.898164</td>\n",
       "      <td>891.799068</td>\n",
       "      <td>15.105746</td>\n",
       "      <td>358.412056</td>\n",
       "      <td>22.500653</td>\n",
       "      <td>690.599583</td>\n",
       "      <td>669.081403</td>\n",
       "      <td>0.311215</td>\n",
       "      <td>0.006570</td>\n",
       "      <td>0.006575</td>\n",
       "      <td>0.006570</td>\n",
       "      <td>0.0</td>\n",
       "      <td>3.680707</td>\n",
       "      <td>3.494805</td>\n",
       "      <td>8.726779</td>\n",
       "      <td>1343.799613</td>\n",
       "    </tr>\n",
       "    <tr>\n",
       "      <th>min</th>\n",
       "      <td>0.000000</td>\n",
       "      <td>0.000000</td>\n",
       "      <td>0.000000</td>\n",
       "      <td>0.000000</td>\n",
       "      <td>0.000000</td>\n",
       "      <td>0.000000</td>\n",
       "      <td>0.000000</td>\n",
       "      <td>0.000000</td>\n",
       "      <td>0.000000</td>\n",
       "      <td>0.000000</td>\n",
       "      <td>0.000000</td>\n",
       "      <td>1.0</td>\n",
       "      <td>2000.000000</td>\n",
       "      <td>1.000000</td>\n",
       "      <td>1.000000</td>\n",
       "      <td>413.000000</td>\n",
       "    </tr>\n",
       "    <tr>\n",
       "      <th>25%</th>\n",
       "      <td>1.000000</td>\n",
       "      <td>646.000000</td>\n",
       "      <td>29.000000</td>\n",
       "      <td>256.000000</td>\n",
       "      <td>83.000000</td>\n",
       "      <td>897.000000</td>\n",
       "      <td>1232.000000</td>\n",
       "      <td>2.000000</td>\n",
       "      <td>0.000121</td>\n",
       "      <td>0.000143</td>\n",
       "      <td>0.000121</td>\n",
       "      <td>1.0</td>\n",
       "      <td>2015.000000</td>\n",
       "      <td>4.000000</td>\n",
       "      <td>8.000000</td>\n",
       "      <td>1163.000000</td>\n",
       "    </tr>\n",
       "    <tr>\n",
       "      <th>50%</th>\n",
       "      <td>3.000000</td>\n",
       "      <td>1493.000000</td>\n",
       "      <td>40.000000</td>\n",
       "      <td>385.000000</td>\n",
       "      <td>96.000000</td>\n",
       "      <td>2038.000000</td>\n",
       "      <td>1827.000000</td>\n",
       "      <td>2.000000</td>\n",
       "      <td>0.000164</td>\n",
       "      <td>0.000193</td>\n",
       "      <td>0.000164</td>\n",
       "      <td>1.0</td>\n",
       "      <td>2018.000000</td>\n",
       "      <td>7.000000</td>\n",
       "      <td>16.000000</td>\n",
       "      <td>2368.000000</td>\n",
       "    </tr>\n",
       "    <tr>\n",
       "      <th>75%</th>\n",
       "      <td>5.000000</td>\n",
       "      <td>2302.000000</td>\n",
       "      <td>51.000000</td>\n",
       "      <td>504.000000</td>\n",
       "      <td>109.000000</td>\n",
       "      <td>2254.000000</td>\n",
       "      <td>2138.000000</td>\n",
       "      <td>2.000000</td>\n",
       "      <td>0.000235</td>\n",
       "      <td>0.000277</td>\n",
       "      <td>0.000235</td>\n",
       "      <td>1.0</td>\n",
       "      <td>2021.000000</td>\n",
       "      <td>10.000000</td>\n",
       "      <td>23.000000</td>\n",
       "      <td>3334.000000</td>\n",
       "    </tr>\n",
       "    <tr>\n",
       "      <th>max</th>\n",
       "      <td>6.000000</td>\n",
       "      <td>3009.000000</td>\n",
       "      <td>61.000000</td>\n",
       "      <td>1729.000000</td>\n",
       "      <td>109.000000</td>\n",
       "      <td>2255.000000</td>\n",
       "      <td>2567.000000</td>\n",
       "      <td>6.000000</td>\n",
       "      <td>1.000000</td>\n",
       "      <td>1.000000</td>\n",
       "      <td>1.000000</td>\n",
       "      <td>1.0</td>\n",
       "      <td>2023.000000</td>\n",
       "      <td>12.000000</td>\n",
       "      <td>31.000000</td>\n",
       "      <td>8821.000000</td>\n",
       "    </tr>\n",
       "  </tbody>\n",
       "</table>\n",
       "</div>"
      ],
      "text/plain": [
       "             Utility      City/Town         County            Zip  \\\n",
       "count  215730.000000  215730.000000  215730.000000  215730.000000   \n",
       "mean        3.026236    1479.392532      37.591360     464.001168   \n",
       "std         1.898164     891.799068      15.105746     358.412056   \n",
       "min         0.000000       0.000000       0.000000       0.000000   \n",
       "25%         1.000000     646.000000      29.000000     256.000000   \n",
       "50%         3.000000    1493.000000      40.000000     385.000000   \n",
       "75%         5.000000    2302.000000      51.000000     504.000000   \n",
       "max         6.000000    3009.000000      61.000000    1729.000000   \n",
       "\n",
       "            Division     Substation      Developer  Metering Method  \\\n",
       "count  215730.000000  215730.000000  215730.000000    215730.000000   \n",
       "mean       90.856010    1620.346920    1618.727224         2.013725   \n",
       "std        22.500653     690.599583     669.081403         0.311215   \n",
       "min         0.000000       0.000000       0.000000         0.000000   \n",
       "25%        83.000000     897.000000    1232.000000         2.000000   \n",
       "50%        96.000000    2038.000000    1827.000000         2.000000   \n",
       "75%       109.000000    2254.000000    2138.000000         2.000000   \n",
       "max       109.000000    2255.000000    2567.000000         6.000000   \n",
       "\n",
       "       Estimated PV System Size (kWdc)  PV System Size (kWac)  \\\n",
       "count                    215730.000000          215730.000000   \n",
       "mean                          0.000543               0.000585   \n",
       "std                           0.006570               0.006575   \n",
       "min                           0.000000               0.000000   \n",
       "25%                           0.000121               0.000143   \n",
       "50%                           0.000164               0.000193   \n",
       "75%                           0.000235               0.000277   \n",
       "max                           1.000000               1.000000   \n",
       "\n",
       "       Estimated Annual PV Energy Production (kWh)  Number of Projects  \\\n",
       "count                                215730.000000            215730.0   \n",
       "mean                                      0.000543                 1.0   \n",
       "std                                       0.006570                 0.0   \n",
       "min                                       0.000000                 1.0   \n",
       "25%                                       0.000121                 1.0   \n",
       "50%                                       0.000164                 1.0   \n",
       "75%                                       0.000235                 1.0   \n",
       "max                                       1.000000                 1.0   \n",
       "\n",
       "                Year          Month            Day  Days Since Interconnection  \n",
       "count  215730.000000  215730.000000  215730.000000               215730.000000  \n",
       "mean     2018.088435       6.797603      15.821800                 2378.288458  \n",
       "std         3.680707       3.494805       8.726779                 1343.799613  \n",
       "min      2000.000000       1.000000       1.000000                  413.000000  \n",
       "25%      2015.000000       4.000000       8.000000                 1163.000000  \n",
       "50%      2018.000000       7.000000      16.000000                 2368.000000  \n",
       "75%      2021.000000      10.000000      23.000000                 3334.000000  \n",
       "max      2023.000000      12.000000      31.000000                 8821.000000  "
      ]
     },
     "execution_count": 31,
     "metadata": {},
     "output_type": "execute_result"
    }
   ],
   "source": [
    "# Summary statistics for numerical columns\n",
    "df.describe()\n"
   ]
  },
  {
   "cell_type": "markdown",
   "id": "00a4b96d-e621-4010-b61d-f3d4773870f4",
   "metadata": {},
   "source": [
    "#### Histogram of Estimated Annual PV Energy Production (kWh)"
   ]
  },
  {
   "cell_type": "code",
   "execution_count": 32,
   "id": "50904a32-21e7-4e40-9e67-12c78855ff78",
   "metadata": {},
   "outputs": [
    {
     "data": {
      "image/png": "[encoded data removed]",
      "text/plain": [
       "<Figure size 1000x600 with 1 Axes>"
      ]
     },
     "metadata": {},
     "output_type": "display_data"
    }
   ],
   "source": [
    "import seaborn as sns\n",
    "import matplotlib.pyplot as plt\n",
    "\n",
    "# Plot the histogram\n",
    "plt.figure(figsize=(10, 6))\n",
    "sns.histplot(df['Estimated Annual PV Energy Production (kWh)'], bins=30, kde=True, color='skyblue')\n",
    "\n",
    "# Labels and title\n",
    "plt.xlabel(\"Estimated Annual PV Energy Production (kWh)\")\n",
    "plt.ylabel(\"Frequency\")\n",
    "plt.title(\"Distribution of Estimated Annual PV Energy Production\")\n",
    "\n",
    "# Show the plot\n",
    "plt.show()\n"
   ]
  },
  {
   "cell_type": "markdown",
   "id": "0945edc5-16ab-4686-887d-4c72c237eddf",
   "metadata": {},
   "source": [
    "Shape of Distribution:\n",
    "\n",
    "The distribution appears to be right-skewed, meaning most solar installations generate lower annual energy, with fewer installations producing significantly higher energy outputs.\n",
    "\n",
    "Spread & Range:\n",
    "\n",
    "The majority of values are concentrated in the lower and mid-range, suggesting that most solar installations have a moderate energy production capacity.\n",
    "There are a few high-production outliers, possibly indicating larger-scale installations.\n",
    "\n",
    "Peak (Mode):\n",
    "\n",
    "The highest frequency occurs at a lower kWh range, which likely represents the most common size of residential or small commercial PV systems.\n",
    "Potential Outliers:\n",
    "\n",
    "The presence of a long right tail suggests that a small number of systems generate significantly higher energy compared to the majority."
   ]
  },
  {
   "cell_type": "markdown",
   "id": "506e0513-bc81-49c0-84c4-c4ae5ad64b19",
   "metadata": {},
   "source": [
    "#### Count plot for Metering Method"
   ]
  },
  {
   "cell_type": "code",
   "execution_count": 33,
   "id": "c69277b6-62ca-48fe-af7b-241fa0bc25a9",
   "metadata": {},
   "outputs": [
    {
     "data": {
      "image/png": "[encoded data removed]",
      "text/plain": [
       "<Figure size 800x500 with 1 Axes>"
      ]
     },
     "metadata": {},
     "output_type": "display_data"
    }
   ],
   "source": [
    "# Plot a count plot for Metering Method\n",
    "plt.figure(figsize=(8, 5))\n",
    "sns.countplot(data=df, x='Metering Method', palette='viridis')\n",
    "\n",
    "# Labels and title\n",
    "plt.xlabel(\"Metering Method\")\n",
    "plt.ylabel(\"Count\")\n",
    "plt.title(\"Count of Different Metering Methods\")\n",
    "\n",
    "# Rotate x labels if needed\n",
    "plt.xticks(rotation=45)\n",
    "\n",
    "# Show the plot\n",
    "plt.show()\n"
   ]
  },
  {
   "cell_type": "markdown",
   "id": "1e38a56d-bbca-47af-b6a8-98a66a1b6587",
   "metadata": {},
   "source": [
    "Dominant Metering Method:\n",
    "\n",
    "One metering method is significantly more common than others, indicating it is the preferred or standard method in most installations.\n",
    "\n",
    "Lack of Diversity:\n",
    "\n",
    "If one method overwhelmingly dominates, it could suggest regulatory requirements, economic benefits, or industry standardization.\n",
    "\n",
    "Potential Insights:\n",
    "\n",
    "If different metering methods correspond to different system sizes or project types, further analysis could reveal trends in energy production efficiency."
   ]
  },
  {
   "cell_type": "markdown",
   "id": "dddd5c66-feb3-4cd3-a76d-3ba69119c745",
   "metadata": {},
   "source": [
    "#### Correlation Between Numerical Features"
   ]
  },
  {
   "cell_type": "code",
   "execution_count": 34,
   "id": "8be8c291-718d-4b2e-9ead-0c684be9c1ad",
   "metadata": {},
   "outputs": [
    {
     "data": {
      "text/plain": [
       "Estimated Annual PV Energy Production (kWh)    1.000000\n",
       "Estimated PV System Size (kWdc)                1.000000\n",
       "PV System Size (kWac)                          0.999917\n",
       "Zip                                            0.076754\n",
       "Year                                           0.028713\n",
       "Day                                            0.012045\n",
       "Month                                          0.011271\n",
       "City/Town                                      0.001525\n",
       "Utility                                       -0.001977\n",
       "Substation                                    -0.017688\n",
       "County                                        -0.018285\n",
       "Days Since Interconnection                    -0.029695\n",
       "Developer                                     -0.034358\n",
       "Division                                      -0.037971\n",
       "Metering Method                               -0.155659\n",
       "Number of Projects                                  NaN\n",
       "Name: Estimated Annual PV Energy Production (kWh), dtype: float64"
      ]
     },
     "execution_count": 34,
     "metadata": {},
     "output_type": "execute_result"
    }
   ],
   "source": [
    "# Compute correlation matrix\n",
    "correlation_matrix = df.corr()\n",
    "\n",
    "# Extract top correlated features with target variable\n",
    "target_corr = correlation_matrix[\"Estimated Annual PV Energy Production (kWh)\"].sort_values(ascending=False)\n",
    "target_corr"
   ]
  },
  {
   "cell_type": "code",
   "execution_count": 35,
   "id": "36f36fe6-446f-4a64-9585-6fb37597359e",
   "metadata": {},
   "outputs": [
    {
     "data": {
      "image/png": "[encoded data removed]",
      "text/plain": [
       "<Figure size 640x480 with 2 Axes>"
      ]
     },
     "metadata": {},
     "output_type": "display_data"
    }
   ],
   "source": [
    "\n",
    "# Heatmap of correlation\n",
    "sns.heatmap(correlation_matrix, annot=True, cmap='coolwarm',linewidths=0.5)\n",
    "plt.show()\n"
   ]
  },
  {
   "cell_type": "markdown",
   "id": "c9268322-e50e-4102-8af9-f077d7b81609",
   "metadata": {},
   "source": [
    "\n",
    "PV System Size (kWdc) and (kWac) are highly correlated with annual energy production  (~1.0 correlation), as expected.\n",
    "\n",
    "Zip code shows a weak positive correlation (~0.09), suggesting regional differences in solar potential.\n",
    "\n",
    "Division (-0.045) and substation(-0.021) have have some influence on production but are not strong predictors.\n",
    "\n",
    "Metering Method (-0.16) and Developer (-0.04) have some influence on production but are not strong predictors.\n",
    "\n",
    "Days Since Interconnection (-0.03) has a minor negative correlation.\n",
    "\n",
    "County and City/Town have negligible correlations with energy production.\n",
    "\n",
    "Number of Projects has NaN correlation, possibly due to constant values."
   ]
  },
  {
   "attachments": {},
   "cell_type": "markdown",
   "id": "a6991c42-fe17-4bdb-86f2-6f91d2f0850e",
   "metadata": {},
   "source": [
    "#### Box Plot for Metering Method vs Estimated PV System Size (kWdc)"
   ]
  },
  {
   "cell_type": "code",
   "execution_count": 36,
   "id": "a9c896d6-66bb-43d5-b70d-03c0e81d0319",
   "metadata": {},
   "outputs": [
    {
     "data": {
      "image/png": "[encoded data removed]",
      "text/plain": [
       "<Figure size 1000x600 with 1 Axes>"
      ]
     },
     "metadata": {},
     "output_type": "display_data"
    }
   ],
   "source": [
    "# Plot a box plot for Metering Method vs Estimated PV System Size (kWdc)\n",
    "plt.figure(figsize=(10, 6))\n",
    "sns.boxplot(data=df, x='Metering Method', y='Estimated PV System Size (kWdc)', palette='coolwarm')\n",
    "\n",
    "# Labels and title\n",
    "plt.xlabel(\"Metering Method\")\n",
    "plt.ylabel(\"Estimated PV System Size (kWdc)\")\n",
    "plt.title(\"Box Plot of Metering Method vs Estimated PV System Size (kWdc)\")\n",
    "\n",
    "# Rotate x labels if needed\n",
    "plt.xticks(rotation=45)\n",
    "\n",
    "# Show the plot\n",
    "plt.show()"
   ]
  },
  {
   "cell_type": "markdown",
   "id": "112ae74b-d7f7-4baa-add9-351ea844ed36",
   "metadata": {},
   "source": [
    "Variation in PV System Size:\n",
    "\n",
    "Different metering methods show different distributions of Estimated PV System Size (kWdc).\n",
    "Some methods have a higher median PV system size, while others are mostly used for smaller installations.\n",
    "\n",
    "Presence of Outliers:\n",
    "\n",
    "The plot shows several outliers above the upper whisker, indicating a few installations with significantly larger PV systems compared to the majority.\n",
    "\n",
    "Interquartile Range (IQR):\n",
    "\n",
    "The IQR (box size) varies across metering methods, suggesting that some methods are used in more diverse system sizes, while others are more standardized.\n",
    "\n",
    "Central Tendency:\n",
    "\n",
    "The median line inside each box represents the typical PV system size for each metering method.\n",
    "If one method has a higher median than others, it may be used for larger installations."
   ]
  },
  {
   "cell_type": "markdown",
   "id": "4ac9f6ba-062b-48ef-8f53-46c688977501",
   "metadata": {},
   "source": [
    "### Outlier Detection"
   ]
  },
  {
   "cell_type": "code",
   "execution_count": 37,
   "id": "d04eb141-85ad-4fb8-aa7a-086a9207cce6",
   "metadata": {},
   "outputs": [],
   "source": [
    "# Selecting numerical columns for outlier detection\n",
    "numerical_cols = [\"Estimated PV System Size (kWdc)\", \"PV System Size (kWac)\", \n",
    "                  \"Estimated Annual PV Energy Production (kWh)\"]"
   ]
  },
  {
   "cell_type": "code",
   "execution_count": 38,
   "id": "595b80af-4eb6-41c9-a1a5-f757640ce734",
   "metadata": {},
   "outputs": [
    {
     "data": {
      "image/png": "[encoded data removed]",
      "text/plain": [
       "<Figure size 1500x1000 with 3 Axes>"
      ]
     },
     "metadata": {},
     "output_type": "display_data"
    }
   ],
   "source": [
    "# Set plot style\n",
    "sns.set(style=\"whitegrid\")\n",
    "\n",
    "# Creating subplots for better visualization\n",
    "fig, axes = plt.subplots(1, 3, figsize=(15, 10))\n",
    "\n",
    "# List of numerical columns\n",
    "columns = [\"Estimated PV System Size (kWdc)\", \"PV System Size (kWac)\", \n",
    "           \"Estimated Annual PV Energy Production (kWh)\"]\n",
    "\n",
    "# Plotting each column as a boxplot\n",
    "for ax, col in zip(axes.flatten(), columns):\n",
    "    sns.boxplot(data=df, y=col, ax=ax, color=\"skyblue\")\n",
    "    ax.set_title(f\"Box Plot of {col}\")\n",
    "\n",
    "# Adjust layout for better visibility\n",
    "plt.tight_layout()\n",
    "plt.show()\n"
   ]
  },
  {
   "cell_type": "code",
   "execution_count": 39,
   "id": "acc4f45f-f100-459e-9b81-19aaf7999721",
   "metadata": {},
   "outputs": [
    {
     "data": {
      "text/plain": [
       "(203236, 16)"
      ]
     },
     "execution_count": 39,
     "metadata": {},
     "output_type": "execute_result"
    }
   ],
   "source": [
    "# Removing rows where all numerical values are NaN\n",
    "df_clean = df.dropna(subset=numerical_cols, how='all')\n",
    "\n",
    "# Function to remove outliers using IQR method\n",
    "def remove_outliers_iqr(df, columns):\n",
    "    Q1 = df[columns].quantile(0.25)\n",
    "    Q3 = df[columns].quantile(0.75)\n",
    "    IQR = Q3 - Q1\n",
    "\n",
    "    # Defining bounds\n",
    "    lower_bound = Q1 - 1.5 * IQR\n",
    "    upper_bound = Q3 + 1.5 * IQR\n",
    "\n",
    "    # Filtering the dataset\n",
    "    df_filtered = df[~((df[columns] < lower_bound) | (df[columns] > upper_bound)).any(axis=1)]\n",
    "    return df_filtered\n",
    "\n",
    "# Removing outliers\n",
    "df_no_outliers = remove_outliers_iqr(df_clean, numerical_cols)\n",
    "\n",
    "# New shape of the dataset after outlier removal\n",
    "df_no_outliers.shape"
   ]
  },
  {
   "cell_type": "markdown",
   "id": "8af60b18-5d27-495e-9e22-8131b9d488da",
   "metadata": {},
   "source": [
    "After the detection and removal of outliers the size of the dataset is 203236."
   ]
  },
  {
   "cell_type": "markdown",
   "id": "b5506321-157b-4ae6-9a9c-7e4774540182",
   "metadata": {},
   "source": [
    "### Splitting Data for Training"
   ]
  },
  {
   "cell_type": "code",
   "execution_count": 49,
   "id": "631daad7-19da-4ec1-be5e-d95369c503bf",
   "metadata": {},
   "outputs": [
    {
     "data": {
      "text/plain": [
       "((172584, 9), (43146, 9), (172584,), (43146,))"
      ]
     },
     "execution_count": 49,
     "metadata": {},
     "output_type": "execute_result"
    }
   ],
   "source": [
    "from sklearn.model_selection import train_test_split\n",
    "\n",
    "features = [\"Estimated PV System Size (kWdc)\", \"PV System Size (kWac)\", \"Zip\",\"Division\",\"Substation\",\n",
    "            \"Utility\", \"Developer\", \"Metering Method\", \"Days Since Interconnection\"]\n",
    "target = \"Estimated Annual PV Energy Production (kWh)\"\n",
    "\n",
    "# Split data into training and testing sets (80% train, 20% test)\n",
    "X_train, X_test, y_train, y_test = train_test_split(df[features], df[target], test_size=0.2, random_state=42)\n",
    "    \n",
    "# Display dataset shapes\n",
    "X_train.shape, X_test.shape, y_train.shape, y_test.shape"
   ]
  },
  {
   "cell_type": "markdown",
   "id": "b4aa209c-abad-4bb9-af9e-2e7cacdaf4a9",
   "metadata": {},
   "source": [
    "## Model Building"
   ]
  },
  {
   "cell_type": "markdown",
   "id": "bb656ae0-30db-4aa9-bf19-4b47fedf841f",
   "metadata": {},
   "source": [
    "### 1.Linear Regression"
   ]
  },
  {
   "cell_type": "code",
   "execution_count": 50,
   "id": "6a7f67c8-0cb7-4251-a9f3-7c8e3236d468",
   "metadata": {},
   "outputs": [
    {
     "data": {
      "text/plain": [
       "LinearRegression()"
      ]
     },
     "execution_count": 50,
     "metadata": {},
     "output_type": "execute_result"
    }
   ],
   "source": [
    "# Running Linear regression model\n",
    "\n",
    "from sklearn.linear_model import LinearRegression\n",
    "\n",
    "model = LinearRegression()\n",
    "model.fit(X_train,y_train)"
   ]
  },
  {
   "cell_type": "code",
   "execution_count": 51,
   "id": "d2b7c1a3-a6e1-472f-91a4-fe3fb9dec64a",
   "metadata": {},
   "outputs": [
    {
     "data": {
      "text/plain": [
       "{'MAE': 4.724404620660896e-08,\n",
       " 'R² Score': 0.9999999999493682,\n",
       " 'RMSE': 5.967987011284227e-08,\n",
       " 'MSE': 3.5616868966857234e-15}"
      ]
     },
     "execution_count": 51,
     "metadata": {},
     "output_type": "execute_result"
    }
   ],
   "source": [
    "from sklearn import metrics\n",
    "from sklearn.metrics import mean_absolute_error, r2_score,mean_squared_error\n",
    "\n",
    "y_pred = model.predict(X_test)\n",
    "\n",
    "# Evaluate Linear Regression\n",
    "lr_results = {\n",
    "    \"MAE\": mean_absolute_error(y_test, y_pred),\n",
    "    \"R² Score\": r2_score(y_test, y_pred),\n",
    "    \"RMSE\":np.sqrt(mean_squared_error(y_test, y_pred)),\n",
    "    \"MSE\":mean_squared_error(y_test,y_pred)\n",
    "     }\n",
    "\n",
    "# Display results\n",
    "lr_results\n",
    "\n"
   ]
  },
  {
   "cell_type": "markdown",
   "id": "117bc9d9-2f44-4f65-b3fc-8750bc91154d",
   "metadata": {},
   "source": [
    "### 2.Random Forest"
   ]
  },
  {
   "cell_type": "code",
   "execution_count": 52,
   "id": "41a46fdf-53ea-459c-b482-883930eca0f8",
   "metadata": {},
   "outputs": [
    {
     "data": {
      "text/plain": [
       "RandomForestRegressor(n_jobs=-1, random_state=42)"
      ]
     },
     "execution_count": 52,
     "metadata": {},
     "output_type": "execute_result"
    }
   ],
   "source": [
    "from sklearn.ensemble import RandomForestRegressor\n",
    "model_rf = RandomForestRegressor(n_estimators=100, random_state=42, n_jobs=-1)\n",
    "model_rf.fit(X_train,y_train)\n"
   ]
  },
  {
   "cell_type": "code",
   "execution_count": 53,
   "id": "d32c9348-b946-454d-aee3-591eb4626edf",
   "metadata": {},
   "outputs": [
    {
     "data": {
      "text/plain": [
       "{'MAE': 1.9813970807786324e-05,\n",
       " 'R² Score': 0.8873993716005595,\n",
       " 'RMSE': 0.002814405016303152,\n",
       " 'MSE': 7.920875595792345e-06}"
      ]
     },
     "execution_count": 53,
     "metadata": {},
     "output_type": "execute_result"
    }
   ],
   "source": [
    "# Make predictions\n",
    "y_rf_pred = model_rf.predict(X_test)\n",
    "\n",
    "# Evaluate Random Forest Regression\n",
    "rf_results = {\n",
    "    \"MAE\": mean_absolute_error(y_test, y_rf_pred),\n",
    "    \"R² Score\": r2_score(y_test, y_rf_pred),\n",
    "    \"RMSE\":np.sqrt(mean_squared_error(y_test, y_rf_pred)),\n",
    "    \"MSE\":mean_squared_error(y_test,y_rf_pred)\n",
    "     }\n",
    "\n",
    "# Display results\n",
    "rf_results\n"
   ]
  },
  {
   "cell_type": "code",
   "execution_count": 54,
   "id": "39250b68-d591-4c72-b5a3-397d52ec2bbc",
   "metadata": {},
   "outputs": [
    {
     "data": {
      "image/png": "[encoded data removed]",
      "text/plain": [
       "<Figure size 800x500 with 1 Axes>"
      ]
     },
     "metadata": {},
     "output_type": "display_data"
    }
   ],
   "source": [
    "features = [\"Estimated PV System Size (kWdc)\", \"PV System Size (kWac)\", \"Zip\",\"Division\",\"Substation\",\n",
    "            \"Utility\", \"Developer\", \"Metering Method\", \"Days Since Interconnection\"]\n",
    "# Feature importance\n",
    "# Get feature importances from the trained model\n",
    "feature_importance = model_rf.feature_importances_\n",
    "\n",
    "# Create a DataFrame for visualization\n",
    "importance_df = pd.DataFrame({\"Feature\": features, \"Importance\": feature_importance})\n",
    "importance_df = importance_df.sort_values(by=\"Importance\", ascending=False)\n",
    "\n",
    "# Plot feature importance\n",
    "plt.figure(figsize=(8, 5))\n",
    "plt.barh(importance_df[\"Feature\"], importance_df[\"Importance\"], color=\"skyblue\")\n",
    "plt.xlabel(\"Importance Score\")\n",
    "plt.ylabel(\"Feature\")\n",
    "plt.title(\"Feature Importance in Solar Energy Prediction Model\")\n",
    "plt.gca().invert_yaxis()  # Invert to show the most important feature on top\n",
    "plt.show()\n"
   ]
  },
  {
   "cell_type": "markdown",
   "id": "e27ae734-ac86-47ab-9d22-103335918e84",
   "metadata": {},
   "source": [
    "Feature Importance Analysis:\n",
    "PV System Size (kWdc) and PV System Size (kWac) are the most influential factors, confirming their direct impact on energy production.\n",
    "Zip code plays a role, indicating regional variations in solar energy potential.\n",
    "Developer and Metering Method contribute moderately, suggesting differences in system efficiency.\n",
    "Utility and Days Since Interconnection have minimal influence."
   ]
  },
  {
   "cell_type": "markdown",
   "id": "ad0f54fd-bd8b-4c1e-a07b-d6b4b5b804a9",
   "metadata": {},
   "source": [
    "### 3. XG Boost"
   ]
  },
  {
   "cell_type": "code",
   "execution_count": 55,
   "id": "56ea8768-d3d0-4788-9e05-42dd43d458ab",
   "metadata": {},
   "outputs": [
    {
     "data": {
      "text/plain": [
       "XGBRegressor(base_score=None, booster=None, callbacks=None,\n",
       "             colsample_bylevel=None, colsample_bynode=None,\n",
       "             colsample_bytree=None, device=None, early_stopping_rounds=None,\n",
       "             enable_categorical=False, eval_metric=None, feature_types=None,\n",
       "             gamma=None, grow_policy=None, importance_type=None,\n",
       "             interaction_constraints=None, learning_rate=None, max_bin=None,\n",
       "             max_cat_threshold=None, max_cat_to_onehot=None,\n",
       "             max_delta_step=None, max_depth=None, max_leaves=None,\n",
       "             min_child_weight=None, missing=nan, monotone_constraints=None,\n",
       "             multi_strategy=None, n_estimators=100, n_jobs=None,\n",
       "             num_parallel_tree=None, random_state=42, ...)"
      ]
     },
     "execution_count": 55,
     "metadata": {},
     "output_type": "execute_result"
    }
   ],
   "source": [
    "from xgboost import XGBRegressor\n",
    "model3= XGBRegressor(n_estimators=100, random_state=42)\n",
    "model3.fit(X_train,y_train)"
   ]
  },
  {
   "cell_type": "code",
   "execution_count": 56,
   "id": "8ff4e8cb-f4f9-42d4-bee8-af175fe5cd79",
   "metadata": {},
   "outputs": [
    {
     "data": {
      "text/plain": [
       "{'MAE': 0.00013063231516644564,\n",
       " 'R² Score': 0.8609339814892509,\n",
       " 'RMSE': 0.0031277115906805032,\n",
       " 'MSE': 9.782579794477163e-06}"
      ]
     },
     "execution_count": 56,
     "metadata": {},
     "output_type": "execute_result"
    }
   ],
   "source": [
    "# Make predictions\n",
    "y3_pred = model3.predict(X_test)\n",
    "\n",
    "# Evaluate Random Forest Regression\n",
    "xgb_results = {\n",
    "    \"MAE\": mean_absolute_error(y_test, y3_pred),\n",
    "    \"R² Score\": r2_score(y_test, y3_pred),\n",
    "    \"RMSE\":np.sqrt(mean_squared_error(y_test, y3_pred)),\n",
    "    \"MSE\":mean_squared_error(y_test,y3_pred)\n",
    "     }\n",
    "\n",
    "# Display results\n",
    "xgb_results\n"
   ]
  },
  {
   "cell_type": "markdown",
   "id": "8428a9ff-75c3-415c-91b3-d27cf258f53f",
   "metadata": {},
   "source": [
    "since XG boost has the lowest MAE and RMSE value and has high R2 value. We can use XG boost "
   ]
  },
  {
   "cell_type": "markdown",
   "id": "668e2bd8-dc10-4202-b973-fb0ea0bfe726",
   "metadata": {},
   "source": [
    "## Hyperparameter Tuning"
   ]
  },
  {
   "cell_type": "code",
   "execution_count": 58,
   "id": "42454ab0-64d3-4eca-a409-1b05438c58be",
   "metadata": {},
   "outputs": [
    {
     "name": "stdout",
     "output_type": "stream",
     "text": [
      "Best Parameters: {'subsample': 0.7, 'n_estimators': 100, 'max_depth': 6, 'learning_rate': 0.05, 'colsample_bytree': 0.8}\n"
     ]
    }
   ],
   "source": [
    "from sklearn.model_selection import RandomizedSearchCV\n",
    "\n",
    " # Define hyperparameter grid\n",
    "param_grid = {\n",
    "        \"n_estimators\": [100, 200, 500],\n",
    "        \"learning_rate\": [0.01, 0.05, 0.1, 0.2],\n",
    "        \"max_depth\": [3, 6, 9],\n",
    "        \"subsample\": [0.7, 0.8, 1.0],\n",
    "        \"colsample_bytree\": [0.7, 0.8, 1.0]\n",
    "    }\n",
    "\n",
    "# Perform Randomized Search\n",
    "xgb = XGBRegressor(random_state=42, n_jobs=-1)\n",
    "random_search = RandomizedSearchCV(xgb, param_distributions=param_grid, n_iter=10, cv=3, scoring=\"neg_mean_absolute_error\", random_state=42, n_jobs=-1)\n",
    "random_search.fit(X_train, y_train)\n",
    "\n",
    "# Best parameters and score\n",
    "best_model = random_search.best_estimator_\n",
    "print(f\"Best Parameters: {random_search.best_params_}\")"
   ]
  },
  {
   "cell_type": "code",
   "execution_count": 59,
   "id": "c1818cb8-01dd-47db-a189-200b077aa076",
   "metadata": {},
   "outputs": [],
   "source": [
    "import joblib"
   ]
  },
  {
   "cell_type": "code",
   "execution_count": 60,
   "id": "e6a75b2e-8b3c-4123-a295-5a251a86b72d",
   "metadata": {},
   "outputs": [
    {
     "name": "stdout",
     "output_type": "stream",
     "text": [
      "Optimized XGBoost Performance: MAE=0.00, RMSE=0.00, R^2=0.8109\n"
     ]
    }
   ],
   "source": [
    "best_xgb_model = random_search.best_estimator_\n",
    "    \n",
    "y_pred = best_xgb_model.predict(X_test)\n",
    "mae = mean_absolute_error(y_test, y_pred)\n",
    "rmse = mean_squared_error(y_test, y_pred, squared=False)\n",
    "r2 = r2_score(y_test, y_pred)\n",
    "    \n",
    "print(f\"Optimized XGBoost Performance: MAE={mae:.2f}, RMSE={rmse:.2f}, R^2={r2:.4f}\")\n",
    "    "
   ]
  },
  {
   "cell_type": "code",
   "execution_count": 61,
   "id": "936654c0-4e39-4c51-9125-1387dc371709",
   "metadata": {},
   "outputs": [
    {
     "data": {
      "text/plain": [
       "['xgboost_model.joblib']"
      ]
     },
     "execution_count": 61,
     "metadata": {},
     "output_type": "execute_result"
    }
   ],
   "source": [
    "# Save model\n",
    "joblib.dump(model, \"xgboost_model.joblib\")\n"
   ]
  },
  {
   "cell_type": "markdown",
   "id": "468c5b5e-ecc8-4879-82db-741b55bb6b3d",
   "metadata": {},
   "source": [
    "## Business Impact:"
   ]
  },
  {
   "cell_type": "markdown",
   "id": "3ef268f4-6853-4b57-9bcc-9095107762a8",
   "metadata": {},
   "source": [
    " Optimized Decision-Making: Customers can select the best developer, equipment, and location based on predicted energy output.\n",
    "\n",
    "Improved Investment Planning: Helps stakeholders maximize ROI by selecting high-yield projects.\n",
    "\n",
    "Sustainability & Efficiency: Encourages efficient solar adoption by predicting energy production before installation."
   ]
  },
  {
   "cell_type": "code",
   "execution_count": null,
   "id": "99e80f1a-b1f4-4795-94c8-49f20906554a",
   "metadata": {},
   "outputs": [],
   "source": []
  }
 ],
 "metadata": {
  "kernelspec": {
   "display_name": "Python 3 (ipykernel)",
   "language": "python",
   "name": "python3"
  },
  "language_info": {
   "codemirror_mode": {
    "name": "ipython",
    "version": 3
   },
   "file_extension": ".py",
   "mimetype": "text/x-python",
   "name": "python",
   "nbconvert_exporter": "python",
   "pygments_lexer": "ipython3",
   "version": "3.9.20"
  }
 },
 "nbformat": 4,
 "nbformat_minor": 5
}
